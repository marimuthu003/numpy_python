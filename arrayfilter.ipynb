{
 "cells": [
  {
   "cell_type": "code",
   "execution_count": 1,
   "id": "bc76cdce-4e03-438c-8cb2-4f3aca989972",
   "metadata": {},
   "outputs": [
    {
     "name": "stdout",
     "output_type": "stream",
     "text": [
      "[1 3 5]\n"
     ]
    }
   ],
   "source": [
    "import numpy as np\n",
    "arr=np.array([1,2,3,4,5])\n",
    "x=[True,False,True,False,True]\n",
    "newarr=arr[x]\n",
    "print(newarr)"
   ]
  },
  {
   "cell_type": "code",
   "execution_count": 3,
   "id": "aefd5345-6a9f-4cd2-ab22-d1ada80a81d4",
   "metadata": {},
   "outputs": [
    {
     "name": "stdout",
     "output_type": "stream",
     "text": [
      "[4 5 6]\n"
     ]
    }
   ],
   "source": [
    "#creating an filter array\n",
    "arr=np.array([1,2,3,4,5,6])\n",
    "filter_arr=[]\n",
    "for element in arr:\n",
    "    if element>3:\n",
    "        filter_arr.append(True)\n",
    "    else:\n",
    "        filter_arr.append(False)\n",
    "newarr=arr[filter_arr]\n",
    "print(newarr)"
   ]
  },
  {
   "cell_type": "code",
   "execution_count": 6,
   "id": "579ad713-7add-42a0-86d3-06db2dc1db7b",
   "metadata": {},
   "outputs": [
    {
     "name": "stdout",
     "output_type": "stream",
     "text": [
      "[2 8 4]\n"
     ]
    }
   ],
   "source": [
    "#creating an filter array by our condition:\n",
    "arr=np.array([2,5,8,9,4])\n",
    "filter_arr=[]\n",
    "for element in arr:\n",
    "    if element%2==0:\n",
    "        filter_arr.append(True)\n",
    "    else:\n",
    "        filter_arr.append(False)\n",
    "newarr=arr[filter_arr]\n",
    "print(newarr)"
   ]
  },
  {
   "cell_type": "markdown",
   "id": "70545f7d-0624-4b44-ab40-e1500a512c15",
   "metadata": {},
   "source": [
    "Creating Filter Directly From Array:\n",
    "\r\n",
    "The above example is quite a common task in NumPy and NumPy provides a nice way to tackle it.\r\n",
    "\r\n",
    "We can directly substitute the array instead of the iterable variable in our condition and it will work just as we expect it to."
   ]
  },
  {
   "cell_type": "code",
   "execution_count": 9,
   "id": "d91b57d2-e9bd-4dd5-92ed-712878ea3786",
   "metadata": {},
   "outputs": [
    {
     "name": "stdout",
     "output_type": "stream",
     "text": [
      "[47 56]\n"
     ]
    }
   ],
   "source": [
    "arr=np.array([45,47,56,33])\n",
    "filter_arr=arr>45\n",
    "newarr=arr[filter_arr]\n",
    "print(newarr)"
   ]
  },
  {
   "cell_type": "code",
   "execution_count": null,
   "id": "320be736-e0aa-4218-a81b-93cfc6a0fcf2",
   "metadata": {},
   "outputs": [],
   "source": []
  }
 ],
 "metadata": {
  "kernelspec": {
   "display_name": "Python 3 (ipykernel)",
   "language": "python",
   "name": "python3"
  },
  "language_info": {
   "codemirror_mode": {
    "name": "ipython",
    "version": 3
   },
   "file_extension": ".py",
   "mimetype": "text/x-python",
   "name": "python",
   "nbconvert_exporter": "python",
   "pygments_lexer": "ipython3",
   "version": "3.12.1"
  }
 },
 "nbformat": 4,
 "nbformat_minor": 5
}

{
 "cells": [
  {
   "cell_type": "markdown",
   "id": "e94681ed-ad3b-45b0-a66f-97a66cc78a69",
   "metadata": {},
   "source": [
    "Joining NumPy Arrays:\n",
    "\r\n",
    "Joining means putting contents of two or more arrays in a single array.\r\n",
    "\r\n",
    "In SQL we join tables based on a key, whereas in NumPy we join arrays by axes.\r\n",
    "\r\n",
    "We pass a sequence of arrays that we want to join to the concatenate() function, along with the axis. If axis is not explicitly passed, it is taken as 0."
   ]
  },
  {
   "cell_type": "code",
   "execution_count": 3,
   "id": "7fa6431a-9531-45bd-80c0-cc46d0852fa7",
   "metadata": {},
   "outputs": [
    {
     "name": "stdout",
     "output_type": "stream",
     "text": [
      "[1 2 3 4 5 6]\n"
     ]
    }
   ],
   "source": [
    "import numpy as np\n",
    "arr1=np.array([1,2,3])\n",
    "arr2=np.array([4,5,6])\n",
    "#along x axis by default\n",
    "join=np.concatenate((arr1,arr2))\n",
    "print(join)"
   ]
  },
  {
   "cell_type": "code",
   "execution_count": 4,
   "id": "156bc01b-cf31-423c-ade5-4bc7d68975c8",
   "metadata": {},
   "outputs": [
    {
     "name": "stdout",
     "output_type": "stream",
     "text": [
      "[[1 2 3]\n",
      " [4 5 9]\n",
      " [4 5 6]\n",
      " [6 7 8]]\n"
     ]
    }
   ],
   "source": [
    "#along y axis use(axis=1)-rows concatenation\n",
    "import numpy as np\n",
    "arr1=np.array([[1,2,3],[4,5,9]])\n",
    "arr2=np.array([[4,5,6],[6,7,8]])\n",
    "join2=np.concatenate((arr1,arr2),axis=0)\n",
    "print(join2)"
   ]
  },
  {
   "cell_type": "code",
   "execution_count": 7,
   "id": "9e367c66-4762-4423-8db6-37b566f211ce",
   "metadata": {},
   "outputs": [
    {
     "name": "stdout",
     "output_type": "stream",
     "text": [
      "[[[1 4]\n",
      "  [2 5]\n",
      "  [3 6]]\n",
      "\n",
      " [[4 6]\n",
      "  [5 7]\n",
      "  [6 8]]]\n"
     ]
    }
   ],
   "source": [
    "#by using stack() with axis\n",
    "arr1=np.array([[1,2,3],[4,5,6]])\n",
    "arr2=np.array([[4,5,6],[6,7,8]])\n",
    "join=np.stack((arr1,arr2),axis=2)#(axis=1 or axis=0 or without any axis it prints the the same result)\n",
    "print(join)\n"
   ]
  },
  {
   "cell_type": "code",
   "execution_count": 9,
   "id": "a84006f3-552f-4b3d-a9e0-13cb0366e7f6",
   "metadata": {},
   "outputs": [
    {
     "data": {
      "text/plain": [
       "array([[1, 2, 3],\n",
       "       [4, 5, 6]])"
      ]
     },
     "execution_count": 9,
     "metadata": {},
     "output_type": "execute_result"
    }
   ],
   "source": [
    "#vertically stacking By Using the (vstack) stack along columns:\n",
    "\n",
    "a=np.array([[1,2,3],[4,5,6]])\n",
    "np.vstack(a)"
   ]
  },
  {
   "cell_type": "code",
   "execution_count": 10,
   "id": "f7208d66-19b3-46c4-bfac-418853471919",
   "metadata": {},
   "outputs": [
    {
     "data": {
      "text/plain": [
       "array([1, 2, 3, 4, 5, 6])"
      ]
     },
     "execution_count": 10,
     "metadata": {},
     "output_type": "execute_result"
    }
   ],
   "source": [
    "#horizontal stacking by using the hstack() along rows:\n",
    "\n",
    "np.hstack(a)"
   ]
  },
  {
   "cell_type": "code",
   "execution_count": 13,
   "id": "74536f8f-0eed-42ba-b400-bd7b16b47aae",
   "metadata": {},
   "outputs": [
    {
     "data": {
      "text/plain": [
       "array([[[1, 4],\n",
       "        [2, 5],\n",
       "        [3, 6]],\n",
       "\n",
       "       [[4, 6],\n",
       "        [5, 7],\n",
       "        [6, 8]]])"
      ]
     },
     "execution_count": 13,
     "metadata": {},
     "output_type": "execute_result"
    }
   ],
   "source": [
    "#Stacking Along Height (depth)\n",
    "#NumPy provides a helper function: dstack() to stack along height, which is the same as depth.\n",
    "\n",
    "np.dstack([arr1,arr2])"
   ]
  },
  {
   "cell_type": "code",
   "execution_count": null,
   "id": "1b3662d9-642a-4a93-9697-9b4d0855c02a",
   "metadata": {},
   "outputs": [],
   "source": []
  }
 ],
 "metadata": {
  "kernelspec": {
   "display_name": "Python 3 (ipykernel)",
   "language": "python",
   "name": "python3"
  },
  "language_info": {
   "codemirror_mode": {
    "name": "ipython",
    "version": 3
   },
   "file_extension": ".py",
   "mimetype": "text/x-python",
   "name": "python",
   "nbconvert_exporter": "python",
   "pygments_lexer": "ipython3",
   "version": "3.12.1"
  }
 },
 "nbformat": 4,
 "nbformat_minor": 5
}

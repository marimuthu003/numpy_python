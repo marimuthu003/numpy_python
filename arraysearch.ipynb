{
 "cells": [
  {
   "cell_type": "code",
   "execution_count": 5,
   "id": "abbd7e40-ea2f-4d74-8aba-2310d9cd2721",
   "metadata": {},
   "outputs": [
    {
     "data": {
      "text/plain": [
       "(array([0, 2, 3, 5], dtype=int64),)"
      ]
     },
     "execution_count": 5,
     "metadata": {},
     "output_type": "execute_result"
    }
   ],
   "source": [
    "import numpy as np\n",
    "#for searching use where() method:\n",
    "arr=np.array([3,2,3,3,5,3])\n",
    "np.where(arr==3)"
   ]
  },
  {
   "cell_type": "code",
   "execution_count": 9,
   "id": "58e52bb0-b08d-4a6d-8439-b8162f8c1d92",
   "metadata": {},
   "outputs": [
    {
     "data": {
      "text/plain": [
       "(array([0, 1], dtype=int64), array([1, 1], dtype=int64))"
      ]
     },
     "execution_count": 9,
     "metadata": {},
     "output_type": "execute_result"
    }
   ],
   "source": [
    "arr2=np.array([[1,4,3],[3,4,5]])\n",
    "np.where(arr2==4)"
   ]
  },
  {
   "cell_type": "code",
   "execution_count": 16,
   "id": "ea6bbaff-3455-456e-bef5-e20c0a41812d",
   "metadata": {},
   "outputs": [
    {
     "data": {
      "text/plain": [
       "(array([1, 3, 5, 8], dtype=int64),)"
      ]
     },
     "execution_count": 16,
     "metadata": {},
     "output_type": "execute_result"
    }
   ],
   "source": [
    "#for printing even and odd numbers:\n",
    "arr=np.array([1,2,3,4,5,6,7,9,10])\n",
    "np.where(arr%2==0)"
   ]
  },
  {
   "cell_type": "code",
   "execution_count": 17,
   "id": "1ce9d4b5-2349-4ede-8f59-3edf6495f519",
   "metadata": {},
   "outputs": [
    {
     "data": {
      "text/plain": [
       "(array([0, 2, 4, 6, 7], dtype=int64),)"
      ]
     },
     "execution_count": 17,
     "metadata": {},
     "output_type": "execute_result"
    }
   ],
   "source": [
    "np.where(arr%2==1)"
   ]
  },
  {
   "cell_type": "code",
   "execution_count": 18,
   "id": "32917bab-f246-49a0-bd1b-df55b7afc7cd",
   "metadata": {},
   "outputs": [
    {
     "data": {
      "text/plain": [
       "2"
      ]
     },
     "execution_count": 18,
     "metadata": {},
     "output_type": "execute_result"
    }
   ],
   "source": [
    "#for seraching sorted arrays use searchsorted() method:\n",
    "arr3=np.array([1,2,3,4,5,6])\n",
    "np.searchsorted(arr3,3)"
   ]
  },
  {
   "cell_type": "code",
   "execution_count": 19,
   "id": "2696a17a-a4f9-4d34-8f02-37f136231f4b",
   "metadata": {},
   "outputs": [
    {
     "data": {
      "text/plain": [
       "3"
      ]
     },
     "execution_count": 19,
     "metadata": {},
     "output_type": "execute_result"
    }
   ],
   "source": [
    "#search from the RIGHT SIDE:\n",
    "np.searchsorted(arr3,3,side='right')"
   ]
  },
  {
   "cell_type": "code",
   "execution_count": 21,
   "id": "661292f4-337e-41a3-a08b-ab6aba53f6ec",
   "metadata": {},
   "outputs": [
    {
     "data": {
      "text/plain": [
       "array([1, 3, 5, 6], dtype=int64)"
      ]
     },
     "execution_count": 21,
     "metadata": {},
     "output_type": "execute_result"
    }
   ],
   "source": [
    "#to serach for more than one values:\n",
    "#it will say the values where it to inserted to the arr4\n",
    "arr4=np.array([1,3,5,7,9])\n",
    "np.searchsorted(arr3,[2,4,6,10])"
   ]
  }
 ],
 "metadata": {
  "kernelspec": {
   "display_name": "Python 3 (ipykernel)",
   "language": "python",
   "name": "python3"
  },
  "language_info": {
   "codemirror_mode": {
    "name": "ipython",
    "version": 3
   },
   "file_extension": ".py",
   "mimetype": "text/x-python",
   "name": "python",
   "nbconvert_exporter": "python",
   "pygments_lexer": "ipython3",
   "version": "3.12.1"
  }
 },
 "nbformat": 4,
 "nbformat_minor": 5
}

{
 "cells": [
  {
   "cell_type": "markdown",
   "id": "c9dd9359-002d-4224-abfd-ea5738976f21",
   "metadata": {},
   "source": [
    "BASIC MATHEMATICS OPERATIONS ON NUMPY:"
   ]
  },
  {
   "cell_type": "code",
   "execution_count": 1,
   "id": "68bb20a7-793f-4c0d-8019-aaf0f328891c",
   "metadata": {},
   "outputs": [
    {
     "data": {
      "text/plain": [
       "array([3, 4, 5])"
      ]
     },
     "execution_count": 1,
     "metadata": {},
     "output_type": "execute_result"
    }
   ],
   "source": [
    "import numpy as np\n",
    "a=np.array([1,2,3])\n",
    "a+2"
   ]
  },
  {
   "cell_type": "code",
   "execution_count": 2,
   "id": "bc09e577-8654-4623-8cc6-ad67044faae3",
   "metadata": {},
   "outputs": [
    {
     "data": {
      "text/plain": [
       "array([-1,  0,  1])"
      ]
     },
     "execution_count": 2,
     "metadata": {},
     "output_type": "execute_result"
    }
   ],
   "source": [
    "a-2"
   ]
  },
  {
   "cell_type": "code",
   "execution_count": 3,
   "id": "9289fca8-dfe8-4063-b583-c3e15f8cd632",
   "metadata": {},
   "outputs": [
    {
     "data": {
      "text/plain": [
       "array([3, 4, 5])"
      ]
     },
     "execution_count": 3,
     "metadata": {},
     "output_type": "execute_result"
    }
   ],
   "source": [
    "a+2"
   ]
  },
  {
   "cell_type": "code",
   "execution_count": 4,
   "id": "cbe0c889-8ed5-4e59-8513-c0afc9db3bc0",
   "metadata": {},
   "outputs": [
    {
     "data": {
      "text/plain": [
       "array([2, 4, 6])"
      ]
     },
     "execution_count": 4,
     "metadata": {},
     "output_type": "execute_result"
    }
   ],
   "source": [
    "a*2"
   ]
  },
  {
   "cell_type": "code",
   "execution_count": 5,
   "id": "486d795a-23be-4a9f-9f07-350bd0d223c0",
   "metadata": {},
   "outputs": [
    {
     "data": {
      "text/plain": [
       "array([0.5, 1. , 1.5])"
      ]
     },
     "execution_count": 5,
     "metadata": {},
     "output_type": "execute_result"
    }
   ],
   "source": [
    "a/2"
   ]
  },
  {
   "cell_type": "code",
   "execution_count": 6,
   "id": "1a683074-75eb-496f-9028-0a497de441c9",
   "metadata": {},
   "outputs": [
    {
     "data": {
      "text/plain": [
       "array([4, 6, 8])"
      ]
     },
     "execution_count": 6,
     "metadata": {},
     "output_type": "execute_result"
    }
   ],
   "source": [
    "b=np.array([3,4,5])\n",
    "a+b"
   ]
  },
  {
   "cell_type": "code",
   "execution_count": 7,
   "id": "a1492002-53ea-40d8-9e4b-e9e5a59e1415",
   "metadata": {},
   "outputs": [
    {
     "name": "stdout",
     "output_type": "stream",
     "text": [
      "[[1. 1. 1.]\n",
      " [1. 1. 1.]]\n",
      "[[3 3 3 3]\n",
      " [3 3 3 3]\n",
      " [3 3 3 3]]\n"
     ]
    }
   ],
   "source": [
    "arr1=np.ones((2,3))\n",
    "arr2=np.full((3,4),3)\n",
    "print(arr1)\n",
    "print(arr2)"
   ]
  },
  {
   "cell_type": "code",
   "execution_count": 8,
   "id": "85720a58-956a-4b6b-9604-14b4d17225b3",
   "metadata": {},
   "outputs": [
    {
     "data": {
      "text/plain": [
       "array([[9., 9., 9., 9.],\n",
       "       [9., 9., 9., 9.]])"
      ]
     },
     "execution_count": 8,
     "metadata": {},
     "output_type": "execute_result"
    }
   ],
   "source": [
    "np.matmul(arr1,arr2)"
   ]
  },
  {
   "cell_type": "code",
   "execution_count": 5,
   "id": "2df7ac34-6a48-43bf-a8cf-a27a72f1d067",
   "metadata": {},
   "outputs": [
    {
     "data": {
      "text/plain": [
       "0.9999999999999991"
      ]
     },
     "execution_count": 5,
     "metadata": {},
     "output_type": "execute_result"
    }
   ],
   "source": [
    "#determinant only appilacable for SQUARE MATRICES\n",
    "import numpy as np\n",
    "b2=np.array([[1,2],\n",
    "             [3,7]])\n",
    "np.linalg.det(b2)"
   ]
  },
  {
   "cell_type": "code",
   "execution_count": 6,
   "id": "7146ca51-cdec-4a5d-af20-4ac2ed7036a5",
   "metadata": {},
   "outputs": [],
   "source": [
    "# Creating a matrix\n",
    "A = np.array([[1, 2, 3],\n",
    "              [4, 5, 6],\n",
    "              [7, 8, 9]])\n",
    "\n",
    "# Creating a vector\n",
    "B = np.array([1, 2, 3])"
   ]
  },
  {
   "cell_type": "code",
   "execution_count": 8,
   "id": "b77d3cb9-eb85-4776-8bbb-c1050e985546",
   "metadata": {},
   "outputs": [
    {
     "name": "stdout",
     "output_type": "stream",
     "text": [
      "[14 32 50]\n"
     ]
    }
   ],
   "source": [
    "#dot matrix multiplication\n",
    "dot=np.dot(A,B)\n",
    "print(dot)"
   ]
  },
  {
   "cell_type": "code",
   "execution_count": 10,
   "id": "100fc40c-a6d6-43ee-ae96-22f54db57cd0",
   "metadata": {},
   "outputs": [
    {
     "name": "stdout",
     "output_type": "stream",
     "text": [
      "[14 32 50]\n"
     ]
    }
   ],
   "source": [
    "# Matrix multiplication using @ operator\n",
    "C_at = A @ B\n",
    "print(C_at)"
   ]
  },
  {
   "cell_type": "code",
   "execution_count": 14,
   "id": "e5c5ff6a-54d9-4c46-9b88-c36a4a48c917",
   "metadata": {},
   "outputs": [
    {
     "name": "stdout",
     "output_type": "stream",
     "text": [
      "[[ 7. -2.]\n",
      " [-3.  1.]]\n"
     ]
    }
   ],
   "source": [
    "# Matrix inversion\n",
    "A_inv = np.linalg.inv(b2)\n",
    "print(A_inv)"
   ]
  },
  {
   "cell_type": "markdown",
   "id": "6e0d1a2e-1e8e-4324-bc8c-13be61ed8434",
   "metadata": {},
   "source": [
    "Here are the general steps to find the inverse of a matrix:\r\n",
    "\r\n",
    "Check Singularity:\r\n",
    "Verify that the matrix is square (having the same number of rows and columns) and non-singular (determinant is non-zero).\r\n",
    "\r\n",
    "Calculate the Adjoint:\r\n",
    "Compute the adjoint of the matrix, denoted as \r\n",
    "adj\r\n",
    "(\r\n",
    "�\r\n",
    ")\r\n",
    "adj(A). The adjoint is obtained by taking the transpose of the cofactor matrix.\r\n",
    "\r\n",
    "Calculate the Determinant:\r\n",
    "Compute the determinant of the matrix \r\n",
    "det\r\n",
    "⁡\r\n",
    "(\r\n",
    "�\r\n",
    ")\r\n",
    "det(A).\r\n",
    "\r\n",
    "Compute the Inverse:\r\n",
    "The inverse matrix is given by \r\n",
    "�\r\n",
    "−\r\n",
    "1\r\n",
    "=\r\n",
    "1\r\n",
    "det\r\n",
    "⁡\r\n",
    "(\r\n",
    "�\r\n",
    ")\r\n",
    "⋅\r\n",
    "adj\r\n",
    "(\r\n",
    "�\r\n",
    ")\r\n",
    "A \r\n",
    "−1\r\n",
    " = \r\n",
    "det(A)\r\n",
    "1\r\n",
    "​\r\n",
    " ⋅adj(A)."
   ]
  },
  {
   "cell_type": "code",
   "execution_count": 23,
   "id": "a9c81e2a-e7fb-4918-b3f5-16ecfa34c399",
   "metadata": {},
   "outputs": [
    {
     "data": {
      "text/plain": [
       "-2.9999999999999996"
      ]
     },
     "execution_count": 23,
     "metadata": {},
     "output_type": "execute_result"
    }
   ],
   "source": [
    "#eg:\n",
    "a=np.array([[1,2],[4,5]])\n",
    "b=np.array([[4,5],[7,9]])\n",
    "#check determinant:(must be square matrix)\n",
    "np.linalg.det(a)"
   ]
  },
  {
   "cell_type": "code",
   "execution_count": 17,
   "id": "cc9e4b19-cf38-4ba7-b0f3-f21592cdf275",
   "metadata": {},
   "outputs": [
    {
     "data": {
      "text/plain": [
       "array([[-1.66666667,  0.66666667],\n",
       "       [ 1.33333333, -0.33333333]])"
      ]
     },
     "execution_count": 17,
     "metadata": {},
     "output_type": "execute_result"
    }
   ],
   "source": [
    "#inverse:\n",
    "np.linalg.inv(a)"
   ]
  },
  {
   "cell_type": "code",
   "execution_count": 19,
   "id": "837550dd-e552-4107-90a0-81459b5a6c52",
   "metadata": {},
   "outputs": [
    {
     "name": "stdout",
     "output_type": "stream",
     "text": [
      "[[1 4 7]\n",
      " [2 5 8]\n",
      " [3 6 9]]\n"
     ]
    }
   ],
   "source": [
    "# Transpose of a matrix\n",
    "A_transpose = A.T\n",
    "print(A_transpose)"
   ]
  },
  {
   "cell_type": "code",
   "execution_count": 20,
   "id": "b6008719-31bf-4900-892f-d917977e7dde",
   "metadata": {},
   "outputs": [
    {
     "name": "stdout",
     "output_type": "stream",
     "text": [
      "[ 1.61168440e+01 -1.11684397e+00 -1.30367773e-15] [[-0.23197069 -0.78583024  0.40824829]\n",
      " [-0.52532209 -0.08675134 -0.81649658]\n",
      " [-0.8186735   0.61232756  0.40824829]]\n"
     ]
    }
   ],
   "source": [
    "# Eigenvalues and eigenvectors\n",
    "eigenvalues, eigenvectors = np.linalg.eig(A)\n",
    "print(eigenvalues, eigenvectors)"
   ]
  },
  {
   "cell_type": "code",
   "execution_count": 24,
   "id": "b5401bfa-772b-42d4-8781-e0c7e61f9a8a",
   "metadata": {},
   "outputs": [
    {
     "name": "stdout",
     "output_type": "stream",
     "text": [
      "[[-2.         -2.33333333]\n",
      " [ 3.          3.66666667]]\n"
     ]
    }
   ],
   "source": [
    "# Solving a system of linear equations: Ax = B\n",
    "x = np.linalg.solve(a,b)\n",
    "print(x)"
   ]
  },
  {
   "cell_type": "code",
   "execution_count": null,
   "id": "21a30ae9-08cb-47d4-973e-4fdd54f46b38",
   "metadata": {},
   "outputs": [],
   "source": []
  }
 ],
 "metadata": {
  "kernelspec": {
   "display_name": "Python 3 (ipykernel)",
   "language": "python",
   "name": "python3"
  },
  "language_info": {
   "codemirror_mode": {
    "name": "ipython",
    "version": 3
   },
   "file_extension": ".py",
   "mimetype": "text/x-python",
   "name": "python",
   "nbconvert_exporter": "python",
   "pygments_lexer": "ipython3",
   "version": "3.12.1"
  }
 },
 "nbformat": 4,
 "nbformat_minor": 5
}

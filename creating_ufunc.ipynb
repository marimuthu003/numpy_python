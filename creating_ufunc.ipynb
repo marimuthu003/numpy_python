{
 "cells": [
  {
   "cell_type": "markdown",
   "id": "9e74260b-8d04-4634-8d7b-eb50fd897c32",
   "metadata": {},
   "source": [
    "How To Create Your Own ufunc:\n",
    "\r\n",
    "To create your own ufunc, you have to define a function, like you do with normal functions in Python, then you add it to your NumPy ufunc library with the frompyfunc() method.\r\n",
    "\r\n",
    "The frompyfunc() method takes the following arguments:\r\n",
    "\r\n",
    "function - the name of the function.\r\n",
    "inputs - the number of input arguments (arrays).\r\n",
    "outputs - the number of output arrays."
   ]
  },
  {
   "cell_type": "code",
   "execution_count": 2,
   "id": "5466d812-1df5-45ba-92a0-8e74081f19b5",
   "metadata": {},
   "outputs": [
    {
     "name": "stdout",
     "output_type": "stream",
     "text": [
      "[6 8 10]\n"
     ]
    }
   ],
   "source": [
    "#creating universal functions:\n",
    "import numpy as np\n",
    "def myfunc(x,y):\n",
    "    return x+y\n",
    "z=np.frompyfunc(myfunc,2,1)\n",
    "print(z([1,2,3],[5,6,7]))"
   ]
  },
  {
   "cell_type": "code",
   "execution_count": 3,
   "id": "60b4ab81-cb41-4649-89fb-a84358c4e653",
   "metadata": {},
   "outputs": [
    {
     "name": "stdout",
     "output_type": "stream",
     "text": [
      "<class 'numpy.ufunc'>\n"
     ]
    }
   ],
   "source": [
    "#check if a function is ufunc or not:\n",
    "print(type(z))"
   ]
  }
 ],
 "metadata": {
  "kernelspec": {
   "display_name": "Python 3 (ipykernel)",
   "language": "python",
   "name": "python3"
  },
  "language_info": {
   "codemirror_mode": {
    "name": "ipython",
    "version": 3
   },
   "file_extension": ".py",
   "mimetype": "text/x-python",
   "name": "python",
   "nbconvert_exporter": "python",
   "pygments_lexer": "ipython3",
   "version": "3.12.1"
  }
 },
 "nbformat": 4,
 "nbformat_minor": 5
}

{
 "cells": [
  {
   "cell_type": "markdown",
   "id": "ef42b776-7048-4284-bae9-d37b478928f0",
   "metadata": {},
   "source": [
    "FOR ACCESING THE FILE DATA :"
   ]
  },
  {
   "cell_type": "code",
   "execution_count": 8,
   "id": "c66711d2-bee9-4bce-a572-18a8294665fe",
   "metadata": {},
   "outputs": [
    {
     "data": {
      "text/plain": [
       "array([[ 1.,  2., 66.,  7.,  8.],\n",
       "       [ 5., 77., 44.,  3.,  7.],\n",
       "       [67.,  4.,  5.,  6., 55.]])"
      ]
     },
     "execution_count": 8,
     "metadata": {},
     "output_type": "execute_result"
    }
   ],
   "source": [
    "import numpy as np\n",
    "#load data from the file by using the genfromtxt:\n",
    "filedata=np.genfromtxt('forfiledata.txt',delimiter=',')\n",
    "filedata"
   ]
  },
  {
   "cell_type": "code",
   "execution_count": 9,
   "id": "b353454a-c652-4ce7-8c0f-40da7ab99d3a",
   "metadata": {},
   "outputs": [
    {
     "data": {
      "text/plain": [
       "array([[ 1,  2, 66,  7,  8],\n",
       "       [ 5, 77, 44,  3,  7],\n",
       "       [67,  4,  5,  6, 55]])"
      ]
     },
     "execution_count": 9,
     "metadata": {},
     "output_type": "execute_result"
    }
   ],
   "source": [
    "filedata.astype('int32')"
   ]
  },
  {
   "cell_type": "code",
   "execution_count": 10,
   "id": "cc401888-1486-4de8-bccd-1d15d306dc32",
   "metadata": {},
   "outputs": [
    {
     "data": {
      "text/plain": [
       "array([[False, False,  True, False, False],\n",
       "       [False,  True, False, False, False],\n",
       "       [ True, False, False, False,  True]])"
      ]
     },
     "execution_count": 10,
     "metadata": {},
     "output_type": "execute_result"
    }
   ],
   "source": [
    "#boolean masking and advancedn indexing:\n",
    "filedata>50"
   ]
  },
  {
   "cell_type": "code",
   "execution_count": 14,
   "id": "4c152649-deeb-467e-a6f2-090d6097c54e",
   "metadata": {},
   "outputs": [
    {
     "data": {
      "text/plain": [
       "array([66., 77., 67., 55.])"
      ]
     },
     "execution_count": 14,
     "metadata": {},
     "output_type": "execute_result"
    }
   ],
   "source": [
    "filedata[filedata>50]\n"
   ]
  },
  {
   "cell_type": "code",
   "execution_count": 3,
   "id": "9a4d0eb9-c25e-41f1-bd5b-69396eae1ce5",
   "metadata": {},
   "outputs": [
    {
     "data": {
      "text/plain": [
       "array([ True,  True,  True, False,  True])"
      ]
     },
     "execution_count": 3,
     "metadata": {},
     "output_type": "execute_result"
    }
   ],
   "source": [
    "import numpy as np\n",
    "filedata=np.genfromtxt('forfiledata.txt',delimiter=',')\n",
    "np.any(filedata>50,axis=0)"
   ]
  },
  {
   "cell_type": "code",
   "execution_count": 4,
   "id": "1eef2ebf-4aed-4228-8152-56bae20f3ebe",
   "metadata": {},
   "outputs": [
    {
     "data": {
      "text/plain": [
       "array([ True,  True,  True])"
      ]
     },
     "execution_count": 4,
     "metadata": {},
     "output_type": "execute_result"
    }
   ],
   "source": [
    "np.any(filedata>50,axis=1)"
   ]
  },
  {
   "cell_type": "code",
   "execution_count": 6,
   "id": "fbc5e2fb-a8f8-45e0-bb7c-89194a87920c",
   "metadata": {},
   "outputs": [
    {
     "data": {
      "text/plain": [
       "array([False, False, False, False, False])"
      ]
     },
     "execution_count": 6,
     "metadata": {},
     "output_type": "execute_result"
    }
   ],
   "source": [
    "#all the axis =0 will be greater than 50 so only it takes it as TRUE VALUE\n",
    "np.all(filedata>50,axis=0)"
   ]
  },
  {
   "cell_type": "code",
   "execution_count": 8,
   "id": "269b3cbf-5807-46c2-a129-b06caddefacf",
   "metadata": {},
   "outputs": [
    {
     "data": {
      "text/plain": [
       "array([[False, False,  True, False, False],\n",
       "       [False,  True, False, False, False],\n",
       "       [ True, False, False, False,  True]])"
      ]
     },
     "execution_count": 8,
     "metadata": {},
     "output_type": "execute_result"
    }
   ],
   "source": [
    "((filedata>50)&(filedata<100))"
   ]
  },
  {
   "cell_type": "code",
   "execution_count": 9,
   "id": "ce569ea8-c961-4770-9f74-79f311a1d154",
   "metadata": {},
   "outputs": [
    {
     "data": {
      "text/plain": [
       "array([[ True,  True, False,  True,  True],\n",
       "       [ True, False,  True,  True,  True],\n",
       "       [False,  True,  True,  True, False]])"
      ]
     },
     "execution_count": 9,
     "metadata": {},
     "output_type": "execute_result"
    }
   ],
   "source": [
    "(~(filedata>50)&(filedata<100))"
   ]
  },
  {
   "cell_type": "code",
   "execution_count": null,
   "id": "fc6d96bb-62ae-44db-a909-d164ca4887c8",
   "metadata": {},
   "outputs": [],
   "source": []
  }
 ],
 "metadata": {
  "kernelspec": {
   "display_name": "Python 3 (ipykernel)",
   "language": "python",
   "name": "python3"
  },
  "language_info": {
   "codemirror_mode": {
    "name": "ipython",
    "version": 3
   },
   "file_extension": ".py",
   "mimetype": "text/x-python",
   "name": "python",
   "nbconvert_exporter": "python",
   "pygments_lexer": "ipython3",
   "version": "3.12.1"
  }
 },
 "nbformat": 4,
 "nbformat_minor": 5
}

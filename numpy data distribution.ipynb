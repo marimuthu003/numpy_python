{
 "cells": [
  {
   "cell_type": "code",
   "execution_count": 19,
   "id": "95893057-193e-483a-a210-952a6c939a24",
   "metadata": {},
   "outputs": [
    {
     "data": {
      "text/plain": [
       "array([2, 3, 1, 2, 3, 5, 3, 1, 2, 1, 3, 4, 3, 2, 1, 3, 1, 2, 3, 5, 1, 2,\n",
       "       1, 2, 3, 2, 2, 5, 3, 2, 5, 2, 1, 5, 2, 2, 2, 2, 4, 2, 2, 2, 2, 4,\n",
       "       2, 2, 4, 2, 2, 2, 2, 2, 2, 2, 3, 2, 2, 5, 2, 5, 2, 2, 1, 2, 3, 1,\n",
       "       2, 3, 2, 4, 2, 2, 2, 3, 2, 3, 2, 2, 2, 2, 2, 4, 3, 2, 2, 1, 4, 1,\n",
       "       2, 1, 3, 4, 2, 2, 2, 2, 2, 1, 2, 2])"
      ]
     },
     "execution_count": 19,
     "metadata": {},
     "output_type": "execute_result"
    }
   ],
   "source": [
    "import numpy as np\n",
    "#Its uses the probablity that means (chances) how many times we want to print the elements in array.\n",
    "#probabilty(chances)-  0  to  1 only exists.\n",
    "np.random.choice([1,2,3,4,5],p=[0.1,0.5,0.2,0.1,0.1],size=(100))"
   ]
  },
  {
   "cell_type": "markdown",
   "id": "0227a019-33e3-4936-bfe7-add642d3eb0e",
   "metadata": {},
   "source": [
    "From the above example:\n",
    "EXPLANATION:\n",
    "    *It uses the random.choice () function\n",
    "    *And in that choice() function, \n",
    "        SYNTAX: choice(array,probability(chances),size)\n",
    "    *by using this chances to print contigious manner\n",
    "        eg: 2,2,2,2,2 or 2,2,2,2 or 2,2,2 or 2,2 or 2\n",
    "            because we given that chances for 2 is (0.5).\n",
    "    *If you add the total chances ,then the result will be at most 1 only.If your sum is greater than one then it will show       the error."
   ]
  },
  {
   "cell_type": "code",
   "execution_count": null,
   "id": "ec85c4d3-b910-405f-b6d8-0b38f2f00318",
   "metadata": {},
   "outputs": [],
   "source": []
  }
 ],
 "metadata": {
  "kernelspec": {
   "display_name": "Python 3 (ipykernel)",
   "language": "python",
   "name": "python3"
  },
  "language_info": {
   "codemirror_mode": {
    "name": "ipython",
    "version": 3
   },
   "file_extension": ".py",
   "mimetype": "text/x-python",
   "name": "python",
   "nbconvert_exporter": "python",
   "pygments_lexer": "ipython3",
   "version": "3.12.1"
  }
 },
 "nbformat": 4,
 "nbformat_minor": 5
}

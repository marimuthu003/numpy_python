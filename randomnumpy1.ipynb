{
 "cells": [
  {
   "cell_type": "markdown",
   "id": "52df3c31-cfd2-45f9-a6a2-329df83dbdfe",
   "metadata": {},
   "source": [
    "advanced random functions in numpy :\n"
   ]
  },
  {
   "cell_type": "code",
   "execution_count": 4,
   "id": "1e0ee313-681a-4faf-b696-e6ddc10aa4cc",
   "metadata": {},
   "outputs": [
    {
     "data": {
      "text/plain": [
       "array([[0.3040188 , 0.35409366, 0.91975663, 0.70591083],\n",
       "       [0.34760455, 0.1654109 , 0.61436629, 0.05067762]])"
      ]
     },
     "execution_count": 4,
     "metadata": {},
     "output_type": "execute_result"
    }
   ],
   "source": [
    "import numpy as np\n",
    "#rand:\n",
    "np.random.rand(5)\n",
    "np.random.rand(2,4)"
   ]
  },
  {
   "cell_type": "code",
   "execution_count": 16,
   "id": "211cea52-309c-49f5-bd72-bc9719bcdd02",
   "metadata": {},
   "outputs": [
    {
     "data": {
      "text/plain": [
       "array([[64,  1],\n",
       "       [87, 73]])"
      ]
     },
     "execution_count": 16,
     "metadata": {},
     "output_type": "execute_result"
    }
   ],
   "source": [
    "#randint:\n",
    "np.random.randint(100,size=(2,2))"
   ]
  },
  {
   "cell_type": "code",
   "execution_count": 19,
   "id": "05644067-db03-4563-843e-7b05155eae87",
   "metadata": {},
   "outputs": [
    {
     "data": {
      "text/plain": [
       "array([5, 3])"
      ]
     },
     "execution_count": 19,
     "metadata": {},
     "output_type": "execute_result"
    }
   ],
   "source": [
    "#choice:\n",
    "np.random.choice([1,2,3,4,5],size=(2))"
   ]
  },
  {
   "cell_type": "code",
   "execution_count": null,
   "id": "86648bb6-f7e4-4b06-a321-67b2054d0292",
   "metadata": {},
   "outputs": [],
   "source": []
  }
 ],
 "metadata": {
  "kernelspec": {
   "display_name": "Python 3 (ipykernel)",
   "language": "python",
   "name": "python3"
  },
  "language_info": {
   "codemirror_mode": {
    "name": "ipython",
    "version": 3
   },
   "file_extension": ".py",
   "mimetype": "text/x-python",
   "name": "python",
   "nbconvert_exporter": "python",
   "pygments_lexer": "ipython3",
   "version": "3.12.1"
  }
 },
 "nbformat": 4,
 "nbformat_minor": 5
}

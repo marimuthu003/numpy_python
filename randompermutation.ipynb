{
 "cells": [
  {
   "cell_type": "markdown",
   "id": "11092d8a-b899-4735-abf2-2a69919f1c42",
   "metadata": {},
   "source": [
    "Random Permutations of Elements:\n",
    "\r\n",
    "A permutation refers to an arrangement of elements. e.g. [3, 2, 1] is a permutation of [1, 2, 3] and vice-versa.\r\n",
    "\r\n",
    "The NumPy Random module provides two methods for this: shuffle() and permutation()."
   ]
  },
  {
   "cell_type": "markdown",
   "id": "9c7d0be7-c323-4043-a807-c774026e16a3",
   "metadata": {},
   "source": [
    "Shuffling Arrays:\n",
    "\r\n",
    "Shuffle means changing arrangement of elements in-place. i.e. in the array itself."
   ]
  },
  {
   "cell_type": "code",
   "execution_count": null,
   "id": "e14df367-c6e2-4a55-947b-84e69873205c",
   "metadata": {},
   "outputs": [],
   "source": []
  },
  {
   "cell_type": "code",
   "execution_count": 6,
   "id": "79b2a3e9-d625-4786-89a0-523358e32ac0",
   "metadata": {},
   "outputs": [
    {
     "name": "stdout",
     "output_type": "stream",
     "text": [
      "[2 5 4 1 3]\n"
     ]
    }
   ],
   "source": [
    "import numpy as np\n",
    "#IT USES THE RANDOM.SHUFFLE() METHOD:\n",
    "#The shuffle() method makes changes to the original array.\n",
    "x=np.array([1,2,3,4,5])\n",
    "np.random.shuffle(x)\n",
    "print(x)"
   ]
  },
  {
   "cell_type": "markdown",
   "id": "0cd3945f-4000-402b-8b03-4a2486c2aceb",
   "metadata": {},
   "source": [
    "Generating Permutation of Arrays:\n",
    "\n",
    "The permutation() method returns a re-arranged array (and leaves the original array un-changed)"
   ]
  },
  {
   "cell_type": "code",
   "execution_count": null,
   "id": "392311e3-e81f-4d3e-a603-f2cc3e80eb84",
   "metadata": {},
   "outputs": [],
   "source": [
    "#IT USES THE RANDOM.PERMUTATION() METHOD:\n",
    "y=np.array([2,3,4,5])\n",
    "a=np.random.permutation(y)\n",
    "print(a)\n",
    "print(y)"
   ]
  }
 ],
 "metadata": {
  "kernelspec": {
   "display_name": "Python 3 (ipykernel)",
   "language": "python",
   "name": "python3"
  },
  "language_info": {
   "codemirror_mode": {
    "name": "ipython",
    "version": 3
   },
   "file_extension": ".py",
   "mimetype": "text/x-python",
   "name": "python",
   "nbconvert_exporter": "python",
   "pygments_lexer": "ipython3",
   "version": "3.12.1"
  }
 },
 "nbformat": 4,
 "nbformat_minor": 5
}

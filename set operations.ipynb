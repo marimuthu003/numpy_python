{
 "cells": [
  {
   "cell_type": "markdown",
   "id": "0586feb7-0cc9-4bb5-b1db-fed4fd739bc8",
   "metadata": {},
   "source": [
    "NumPy Set Operations:\n",
    "\r\n",
    "What is a Set\r\n",
    "A set in mathematics is a collection of unique elements.\r\n",
    "\r\n",
    "Sets are used for operations involving frequent intersection, union and difference operations."
   ]
  },
  {
   "cell_type": "code",
   "execution_count": 1,
   "id": "23b00edc-b66d-48f7-9d8f-c0c42dc0bff5",
   "metadata": {},
   "outputs": [
    {
     "data": {
      "text/plain": [
       "array([1, 2, 3, 4, 5, 6])"
      ]
     },
     "execution_count": 1,
     "metadata": {},
     "output_type": "execute_result"
    }
   ],
   "source": [
    "import numpy as np\n",
    "\n",
    "#unique() method:\n",
    "\n",
    "a=np.array([1,1,1,2,3,4,5,5,6,6,6])\n",
    "np.unique(a)"
   ]
  },
  {
   "cell_type": "code",
   "execution_count": 2,
   "id": "72cd1d48-203e-4146-b63d-c077d78b57f8",
   "metadata": {},
   "outputs": [
    {
     "data": {
      "text/plain": [
       "array([1, 2, 3, 4, 5, 6])"
      ]
     },
     "execution_count": 2,
     "metadata": {},
     "output_type": "execute_result"
    }
   ],
   "source": [
    "# finding union - union1d()\n",
    "\n",
    "a=np.array([1,2,3])\n",
    "b=np.array([4,5,6])\n",
    "np.union1d(a,b)"
   ]
  },
  {
   "cell_type": "code",
   "execution_count": 3,
   "id": "3ef12ed1-c874-4f1d-8131-782cb5a9694b",
   "metadata": {},
   "outputs": [
    {
     "data": {
      "text/plain": [
       "array([2, 3])"
      ]
     },
     "execution_count": 3,
     "metadata": {},
     "output_type": "execute_result"
    }
   ],
   "source": [
    "#finding intersection - intersect1d()\n",
    "\n",
    "a=np.array([1,2,3])\n",
    "b=np.array([3,2,6])\n",
    "np.intersect1d(a,b)"
   ]
  },
  {
   "cell_type": "code",
   "execution_count": 2,
   "id": "3460a099-ee93-4933-a607-30057ad5463f",
   "metadata": {},
   "outputs": [
    {
     "data": {
      "text/plain": [
       "array([1])"
      ]
     },
     "execution_count": 2,
     "metadata": {},
     "output_type": "execute_result"
    }
   ],
   "source": [
    "#finding setdiffernce - setdiff1d()\n",
    "#To find only the values in the first set that is NOT present in the seconds set, use the setdiff1d() method.\n",
    "\n",
    "import numpy as np\n",
    "a=np.array([1,2,3])\n",
    "b=np.array([3,2,6])\n",
    "np.setdiff1d(a,b,assume_unique=True)"
   ]
  },
  {
   "cell_type": "code",
   "execution_count": 8,
   "id": "629736be-f1d1-4ef0-a2d8-2cadb54c21fa",
   "metadata": {},
   "outputs": [
    {
     "data": {
      "text/plain": [
       "array([1, 6])"
      ]
     },
     "execution_count": 8,
     "metadata": {},
     "output_type": "execute_result"
    }
   ],
   "source": [
    "#finding symmteric differnce - setxor1d()\n",
    "#Finding Symmetric Difference\n",
    "#To find only the values that are NOT present in BOTH sets, use the setxor1d() method.\n",
    "\n",
    "a=np.array([1,2,3])\n",
    "b=np.array([3,2,6])\n",
    "np.setxor1d(a,b,assume_unique=True)"
   ]
  },
  {
   "cell_type": "code",
   "execution_count": null,
   "id": "8c99b899-9825-49ec-b4ae-f5e2f68c7bf0",
   "metadata": {},
   "outputs": [],
   "source": []
  }
 ],
 "metadata": {
  "kernelspec": {
   "display_name": "Python 3 (ipykernel)",
   "language": "python",
   "name": "python3"
  },
  "language_info": {
   "codemirror_mode": {
    "name": "ipython",
    "version": 3
   },
   "file_extension": ".py",
   "mimetype": "text/x-python",
   "name": "python",
   "nbconvert_exporter": "python",
   "pygments_lexer": "ipython3",
   "version": "3.12.1"
  }
 },
 "nbformat": 4,
 "nbformat_minor": 5
}

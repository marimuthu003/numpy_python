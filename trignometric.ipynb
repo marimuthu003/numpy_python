{
 "cells": [
  {
   "cell_type": "markdown",
   "id": "f2b1317f-89ec-45f1-b826-7e3272d5da16",
   "metadata": {},
   "source": [
    "NumPy Trigonometric Functions:\n",
    "\r\n",
    "Trigonometric Functions\r\n",
    "NumPy provides the ufuncs sin(), cos() and tan() that take values in radians and produce the corresponding sin, cos and tan values."
   ]
  },
  {
   "cell_type": "code",
   "execution_count": 4,
   "id": "a44e4f29-c3ab-4ae9-b00e-66d6e6d9eebc",
   "metadata": {},
   "outputs": [
    {
     "data": {
      "text/plain": [
       "1.0"
      ]
     },
     "execution_count": 4,
     "metadata": {},
     "output_type": "execute_result"
    }
   ],
   "source": [
    "import numpy as np\n",
    "np.sin(np.pi/2)"
   ]
  },
  {
   "cell_type": "code",
   "execution_count": 5,
   "id": "eab260b3-c1ba-45ed-857d-3524b0347a26",
   "metadata": {},
   "outputs": [
    {
     "data": {
      "text/plain": [
       "array([1.        , 0.8660254 , 0.70710678])"
      ]
     },
     "execution_count": 5,
     "metadata": {},
     "output_type": "execute_result"
    }
   ],
   "source": [
    "forsin=np.array([np.pi/2,np.pi/3,np.pi/4])\n",
    "np.sin(forsin)"
   ]
  },
  {
   "cell_type": "code",
   "execution_count": 6,
   "id": "45032e9f-e3c1-4d3c-a37c-386f536241f6",
   "metadata": {},
   "outputs": [
    {
     "data": {
      "text/plain": [
       "6.123233995736766e-17"
      ]
     },
     "execution_count": 6,
     "metadata": {},
     "output_type": "execute_result"
    }
   ],
   "source": [
    "np.cos(np.pi/2)"
   ]
  },
  {
   "cell_type": "code",
   "execution_count": 8,
   "id": "b8792072-9cd0-4960-9489-25e5330464f8",
   "metadata": {},
   "outputs": [
    {
     "data": {
      "text/plain": [
       "1.6197751905438615"
      ]
     },
     "execution_count": 8,
     "metadata": {},
     "output_type": "execute_result"
    }
   ],
   "source": [
    "np.tan(45)"
   ]
  },
  {
   "cell_type": "markdown",
   "id": "149c0d2b-b5be-45b9-8011-0f3b10946807",
   "metadata": {},
   "source": [
    "Convert Degrees Into Radians:\n",
    "\r\n",
    "By default all of the trigonometric functions take radians as parameters but we can convert radians to degrees and vice versa as well in NumPy.\r\n",
    "\r\n",
    "Note: radians values are pi/180 * degree_values."
   ]
  },
  {
   "cell_type": "code",
   "execution_count": 10,
   "id": "a2af6608-010c-44d8-98de-32c24e335d84",
   "metadata": {},
   "outputs": [
    {
     "data": {
      "text/plain": [
       "array([1.57079633, 3.14159265, 4.71238898, 6.28318531])"
      ]
     },
     "execution_count": 10,
     "metadata": {},
     "output_type": "execute_result"
    }
   ],
   "source": [
    "arr = np.array([90, 180, 270, 360])\n",
    "np.deg2rad(arr)\n"
   ]
  },
  {
   "cell_type": "markdown",
   "id": "68946491-a2fa-419d-ab6d-de0185a2d23c",
   "metadata": {},
   "source": [
    "Radians to Degrees:"
   ]
  },
  {
   "cell_type": "code",
   "execution_count": 11,
   "id": "131a6650-0fac-4c3c-8b50-86ac84d6d408",
   "metadata": {},
   "outputs": [
    {
     "name": "stdout",
     "output_type": "stream",
     "text": [
      "[ 90. 180. 270. 360.]\n"
     ]
    }
   ],
   "source": [
    "arr = np.array([np.pi/2, np.pi, 1.5*np.pi, 2*np.pi])\n",
    "\n",
    "x = np.rad2deg(arr)\n",
    "\n",
    "print(x)"
   ]
  },
  {
   "cell_type": "markdown",
   "id": "71b3fad5-5e04-404f-9f51-5d3d5738f847",
   "metadata": {},
   "source": [
    "Finding Angles:\n",
    "\r\n",
    "Finding angles from values of sine, cos, tan. E.g. sin, cos and tan inverse (arcsin, arccos, arctan).\r\n",
    "\r\n",
    "NumPy provides ufuncs arcsin(), arccos() and arctan() that produce radian values for corresponding sin, cos and tan values given."
   ]
  },
  {
   "cell_type": "code",
   "execution_count": 25,
   "id": "2a5bbf7f-aa03-482b-8203-6545af054375",
   "metadata": {},
   "outputs": [
    {
     "data": {
      "text/plain": [
       "0.775397496610753"
      ]
     },
     "execution_count": 25,
     "metadata": {},
     "output_type": "execute_result"
    }
   ],
   "source": [
    "np.arcsin(0.7)"
   ]
  },
  {
   "cell_type": "code",
   "execution_count": 20,
   "id": "c35462e6-bed6-4cc5-895c-974cab7d9ba0",
   "metadata": {},
   "outputs": [
    {
     "data": {
      "text/plain": [
       "0.0"
      ]
     },
     "execution_count": 20,
     "metadata": {},
     "output_type": "execute_result"
    }
   ],
   "source": [
    "np.arccos(1.0)"
   ]
  },
  {
   "cell_type": "code",
   "execution_count": 24,
   "id": "5ba9c28a-f328-44dc-b5ca-f1ebf7929ccc",
   "metadata": {},
   "outputs": [
    {
     "data": {
      "text/plain": [
       "0.6107259643892086"
      ]
     },
     "execution_count": 24,
     "metadata": {},
     "output_type": "execute_result"
    }
   ],
   "source": [
    "np.arctan(1.0)"
   ]
  },
  {
   "cell_type": "code",
   "execution_count": 22,
   "id": "b19ea5c2-2fdd-4192-a104-c0a212f91c18",
   "metadata": {},
   "outputs": [
    {
     "name": "stdout",
     "output_type": "stream",
     "text": [
      "[ 1.57079633 -1.57079633  0.10016742]\n"
     ]
    }
   ],
   "source": [
    "#angles of each element in an array:\n",
    "\n",
    "arr = np.array([1, -1, 0.1])\n",
    "\n",
    "x = np.arcsin(arr)\n",
    "\n",
    "print(x)"
   ]
  },
  {
   "cell_type": "markdown",
   "id": "51d9f78a-7754-4858-b8ec-16e9efb361c3",
   "metadata": {},
   "source": [
    "Finding hypotenues using pythagoras theorem in NumPy.\r\n",
    "\r\n",
    "NumPy provides the hypot() function that takes the base and perpendicular values and produces hypotenues based on pythagoras theorem."
   ]
  },
  {
   "cell_type": "code",
   "execution_count": 23,
   "id": "a3fc99b0-b0e3-4d90-901b-69f8efc4bcb5",
   "metadata": {},
   "outputs": [
    {
     "data": {
      "text/plain": [
       "5.0"
      ]
     },
     "execution_count": 23,
     "metadata": {},
     "output_type": "execute_result"
    }
   ],
   "source": [
    "base=4\n",
    "perp=3\n",
    "np.hypot(base,perp)\n"
   ]
  },
  {
   "cell_type": "code",
   "execution_count": null,
   "id": "141f9efe-7633-4ff0-b515-a7713ecc72a7",
   "metadata": {},
   "outputs": [],
   "source": []
  }
 ],
 "metadata": {
  "kernelspec": {
   "display_name": "Python 3 (ipykernel)",
   "language": "python",
   "name": "python3"
  },
  "language_info": {
   "codemirror_mode": {
    "name": "ipython",
    "version": 3
   },
   "file_extension": ".py",
   "mimetype": "text/x-python",
   "name": "python",
   "nbconvert_exporter": "python",
   "pygments_lexer": "ipython3",
   "version": "3.12.1"
  }
 },
 "nbformat": 4,
 "nbformat_minor": 5
}

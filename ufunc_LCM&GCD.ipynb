{
 "cells": [
  {
   "cell_type": "markdown",
   "id": "387ec3ef-88a2-4ac1-88f4-eb67a6c4b46f",
   "metadata": {},
   "source": [
    "NumPy LCM Lowest Common Multiple:\n",
    "\n",
    "Finding LCM (Lowest Common Multiple)\r\n",
    "The Lowest Common Multiple is the smallest number that is a common multiple of two numbers.\r\n"
   ]
  },
  {
   "cell_type": "code",
   "execution_count": 4,
   "id": "eff8d8de-62b0-4a1c-b74e-552b17110488",
   "metadata": {},
   "outputs": [
    {
     "data": {
      "text/plain": [
       "12"
      ]
     },
     "execution_count": 4,
     "metadata": {},
     "output_type": "execute_result"
    }
   ],
   "source": [
    "import numpy as np\n",
    "num1=4\n",
    "num2=6\n",
    "np.lcm(num1,num2)"
   ]
  },
  {
   "cell_type": "code",
   "execution_count": 5,
   "id": "cc49c754-01a7-4b7a-aeb5-63870fe1b6bc",
   "metadata": {},
   "outputs": [
    {
     "data": {
      "text/plain": [
       "60"
      ]
     },
     "execution_count": 5,
     "metadata": {},
     "output_type": "execute_result"
    }
   ],
   "source": [
    "#lcm through an array use reduce() method;\n",
    "a=np.array([3,4,5])\n",
    "np.lcm.reduce(a)"
   ]
  },
  {
   "cell_type": "code",
   "execution_count": 6,
   "id": "d07bee0d-8610-40bb-b1c4-bcc296ec11b0",
   "metadata": {},
   "outputs": [
    {
     "data": {
      "text/plain": [
       "2520"
      ]
     },
     "execution_count": 6,
     "metadata": {},
     "output_type": "execute_result"
    }
   ],
   "source": [
    "b=np.arange(1,11)\n",
    "np.lcm.reduce(b)"
   ]
  },
  {
   "cell_type": "markdown",
   "id": "78b62ba5-50a3-4110-bbd3-b40b52fb7632",
   "metadata": {},
   "source": [
    "NumPy GCD Greatest Common Denominator:\n",
    "\r\n",
    "Finding GCD (Greatest Common Denominato):\n",
    ")\r\n",
    "The GCD (Greatest Common Denominator), also known as HCF (Highest Common Factor) is the biggest number that is a common factor of both of the numbers."
   ]
  },
  {
   "cell_type": "code",
   "execution_count": 12,
   "id": "d7a5fb02-1820-440d-858b-f55059674bb6",
   "metadata": {},
   "outputs": [
    {
     "data": {
      "text/plain": [
       "2"
      ]
     },
     "execution_count": 12,
     "metadata": {},
     "output_type": "execute_result"
    }
   ],
   "source": [
    "num1=4\n",
    "num2=6\n",
    "np.gcd(num1,num2)"
   ]
  },
  {
   "cell_type": "code",
   "execution_count": 13,
   "id": "b0f99765-a332-4ea3-8b4d-b80215df96db",
   "metadata": {},
   "outputs": [
    {
     "data": {
      "text/plain": [
       "4"
      ]
     },
     "execution_count": 13,
     "metadata": {},
     "output_type": "execute_result"
    }
   ],
   "source": [
    "#GCD through an array:\n",
    "a=np.array([4,4,8])\n",
    "np.gcd.reduce(a)"
   ]
  }
 ],
 "metadata": {
  "kernelspec": {
   "display_name": "Python 3 (ipykernel)",
   "language": "python",
   "name": "python3"
  },
  "language_info": {
   "codemirror_mode": {
    "name": "ipython",
    "version": 3
   },
   "file_extension": ".py",
   "mimetype": "text/x-python",
   "name": "python",
   "nbconvert_exporter": "python",
   "pygments_lexer": "ipython3",
   "version": "3.12.1"
  }
 },
 "nbformat": 4,
 "nbformat_minor": 5
}

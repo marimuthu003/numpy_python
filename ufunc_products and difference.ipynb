{
 "cells": [
  {
   "cell_type": "code",
   "execution_count": 1,
   "id": "ba05fc14-3cf7-43d0-986f-ef7756c5e658",
   "metadata": {},
   "outputs": [
    {
     "data": {
      "text/plain": [
       "6"
      ]
     },
     "execution_count": 1,
     "metadata": {},
     "output_type": "execute_result"
    }
   ],
   "source": [
    "import numpy as np\n",
    "arr=np.array([1,2,3])\n",
    "np.prod(arr)"
   ]
  },
  {
   "cell_type": "code",
   "execution_count": 2,
   "id": "54a28f27-742d-4c39-b27c-8ef46c7a3492",
   "metadata": {},
   "outputs": [
    {
     "data": {
      "text/plain": [
       "360"
      ]
     },
     "execution_count": 2,
     "metadata": {},
     "output_type": "execute_result"
    }
   ],
   "source": [
    "a=np.array([1,2,3])\n",
    "b=np.array([5,4,3])\n",
    "np.prod((a,b))"
   ]
  },
  {
   "cell_type": "code",
   "execution_count": 3,
   "id": "9e13278a-de95-48d3-b05e-6f046481a04c",
   "metadata": {},
   "outputs": [
    {
     "data": {
      "text/plain": [
       "array([ 6, 60])"
      ]
     },
     "execution_count": 3,
     "metadata": {},
     "output_type": "execute_result"
    }
   ],
   "source": [
    "#according to axis=1:\n",
    "np.prod((a,b),axis=1)"
   ]
  },
  {
   "cell_type": "code",
   "execution_count": 4,
   "id": "c589520a-45f8-4972-925c-a52882c32321",
   "metadata": {},
   "outputs": [
    {
     "data": {
      "text/plain": [
       "array([1, 2, 6])"
      ]
     },
     "execution_count": 4,
     "metadata": {},
     "output_type": "execute_result"
    }
   ],
   "source": [
    "#cumulative product---1,1*2,1*2*3.\n",
    "a=np.array([1,2,3])\n",
    "np.cumprod(a)"
   ]
  },
  {
   "cell_type": "markdown",
   "id": "73639d04-ed10-4e96-8392-ea98617b3887",
   "metadata": {},
   "source": [
    "DIFFERENCE:\n",
    "A discrete difference means subtracting two successive elements.\r\n",
    "\r\n",
    "E.g. for [1, 2, 3, 4], the discrete difference would be [2-1, 3-2, 4-3] = [1, 1, 1]\r\n",
    "\r\n",
    "To find the discrete difference, use the diff() function."
   ]
  },
  {
   "cell_type": "code",
   "execution_count": 11,
   "id": "8a95b9d5-dfae-43e6-b8c4-1887a10d89e1",
   "metadata": {},
   "outputs": [
    {
     "data": {
      "text/plain": [
       "array([  4,  13, -15])"
      ]
     },
     "execution_count": 11,
     "metadata": {},
     "output_type": "execute_result"
    }
   ],
   "source": [
    "c=np.array([10,14,27,12])#(15-10,20-15)\n",
    "np.diff(c)\n"
   ]
  },
  {
   "cell_type": "code",
   "execution_count": 7,
   "id": "4dc272e6-58b7-4b43-a0d4-a0ad6dd9b280",
   "metadata": {},
   "outputs": [
    {
     "data": {
      "text/plain": [
       "array([[5, 5],\n",
       "       [1, 1]])"
      ]
     },
     "execution_count": 7,
     "metadata": {},
     "output_type": "execute_result"
    }
   ],
   "source": [
    "d=np.array([1,2,3])\n",
    "np.diff([c,d])"
   ]
  },
  {
   "cell_type": "code",
   "execution_count": 12,
   "id": "cdac6409-1365-44e6-a29a-19ab9dc5a492",
   "metadata": {},
   "outputs": [
    {
     "data": {
      "text/plain": [
       "array([  9, -28])"
      ]
     },
     "execution_count": 12,
     "metadata": {},
     "output_type": "execute_result"
    }
   ],
   "source": [
    "#Finding diffrence in 2 times :\n",
    "np.diff(c,n=2)"
   ]
  },
  {
   "cell_type": "code",
   "execution_count": null,
   "id": "149e25e9-5b92-4a13-960e-2c13b56e4cf0",
   "metadata": {},
   "outputs": [],
   "source": []
  }
 ],
 "metadata": {
  "kernelspec": {
   "display_name": "Python 3 (ipykernel)",
   "language": "python",
   "name": "python3"
  },
  "language_info": {
   "codemirror_mode": {
    "name": "ipython",
    "version": 3
   },
   "file_extension": ".py",
   "mimetype": "text/x-python",
   "name": "python",
   "nbconvert_exporter": "python",
   "pygments_lexer": "ipython3",
   "version": "3.12.1"
  }
 },
 "nbformat": 4,
 "nbformat_minor": 5
}

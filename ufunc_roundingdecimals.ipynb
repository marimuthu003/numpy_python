{
 "cells": [
  {
   "cell_type": "markdown",
   "id": "dc89886f-4cd0-45f4-8cc3-a21dcb829000",
   "metadata": {},
   "source": [
    "Rounding Decimals\r\n",
    "There are primarily five ways of rounding off decimals in NumPy:\r\n",
    "\r\n",
    "truncation\r\n",
    "fix\r\n",
    "rounding\r\n",
    "floor\r\n",
    "ceil"
   ]
  },
  {
   "cell_type": "code",
   "execution_count": 2,
   "id": "8c42252f-a169-4dad-80c2-6126af11a8ff",
   "metadata": {},
   "outputs": [
    {
     "data": {
      "text/plain": [
       "array([-3.,  5.])"
      ]
     },
     "execution_count": 2,
     "metadata": {},
     "output_type": "execute_result"
    }
   ],
   "source": [
    "import numpy as np\n",
    "#truncation - trunc() or fix()\n",
    "#Remove the decimals, and return the float number closest to zero. Use the trunc() and fix() functions.\n",
    "#truncation return the values as INTEGER !!!!!!!\n",
    "np.trunc([-3.44,5.5])\n"
   ]
  },
  {
   "cell_type": "code",
   "execution_count": 3,
   "id": "49a52841-86bc-4c58-8ab3-c0b36490dcea",
   "metadata": {},
   "outputs": [
    {
     "data": {
      "text/plain": [
       "array([-3.,  5.])"
      ]
     },
     "execution_count": 3,
     "metadata": {},
     "output_type": "execute_result"
    }
   ],
   "source": [
    "#fix() also same as trunc()\n",
    "np.fix([-3.44,5.5])"
   ]
  },
  {
   "cell_type": "code",
   "execution_count": 5,
   "id": "315ca73a-4eae-41ac-96e6-10558eefc031",
   "metadata": {},
   "outputs": [
    {
     "data": {
      "text/plain": [
       "array([-3.,  6.])"
      ]
     },
     "execution_count": 5,
     "metadata": {},
     "output_type": "execute_result"
    }
   ],
   "source": [
    "#Rounding\n",
    "\n",
    "#The around() function increments preceding digit or decimal by 1 if >=5 else do nothing.\n",
    "\n",
    "#E.g. round off to 1 decimal point, 3.16666 is 3.2\n",
    "\n",
    "#Example\n",
    "np.around([-3.44,5.5])"
   ]
  },
  {
   "cell_type": "code",
   "execution_count": 6,
   "id": "4be37172-f86e-476a-8566-4fe99c49ed58",
   "metadata": {},
   "outputs": [
    {
     "data": {
      "text/plain": [
       "array([-4.,  5.])"
      ]
     },
     "execution_count": 6,
     "metadata": {},
     "output_type": "execute_result"
    }
   ],
   "source": [
    "#floor\n",
    "\n",
    "#The floor() function rounds off decimal to nearest lower integer.\n",
    "\n",
    "#E.g. floor of 3.166 is 3.\n",
    "np.floor([-3.44,5.5])"
   ]
  },
  {
   "cell_type": "code",
   "execution_count": 7,
   "id": "65f6f08e-f04e-4472-ac1b-ffb2cc96af92",
   "metadata": {},
   "outputs": [
    {
     "data": {
      "text/plain": [
       "array([-3.,  6.])"
      ]
     },
     "execution_count": 7,
     "metadata": {},
     "output_type": "execute_result"
    }
   ],
   "source": [
    "#Ceil\n",
    "\n",
    "#The ceil() function rounds off decimal to nearest upper integer.\n",
    "\n",
    "#E.g. ceil of 3.166 is 4.\n",
    "np.ceil([-3.44,5.5])"
   ]
  },
  {
   "cell_type": "code",
   "execution_count": null,
   "id": "79c73f48-e989-4e21-a1f1-8f8d01043935",
   "metadata": {},
   "outputs": [],
   "source": []
  }
 ],
 "metadata": {
  "kernelspec": {
   "display_name": "Python 3 (ipykernel)",
   "language": "python",
   "name": "python3"
  },
  "language_info": {
   "codemirror_mode": {
    "name": "ipython",
    "version": 3
   },
   "file_extension": ".py",
   "mimetype": "text/x-python",
   "name": "python",
   "nbconvert_exporter": "python",
   "pygments_lexer": "ipython3",
   "version": "3.12.1"
  }
 },
 "nbformat": 4,
 "nbformat_minor": 5
}
